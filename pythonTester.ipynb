{
 "cells": [
  {
   "cell_type": "code",
   "execution_count": 8,
   "metadata": {},
   "outputs": [
    {
     "data": {
      "text/plain": [
       "True"
      ]
     },
     "execution_count": 8,
     "metadata": {},
     "output_type": "execute_result"
    }
   ],
   "source": [
    "from dotenv import load_dotenv\n",
    "import os\n",
    "import redis\n",
    "from tmdbv3api import TMDb, TV, Season, Episode\n",
    "import xml.etree.ElementTree as ET\n",
    "\n",
    "load_dotenv()"
   ]
  },
  {
   "cell_type": "code",
   "execution_count": 3,
   "metadata": {},
   "outputs": [],
   "source": [
    "r = redis.Redis(host='localhost', port=6379, decode_responses=True)"
   ]
  },
  {
   "cell_type": "markdown",
   "metadata": {},
   "source": [
    "Test Key:"
   ]
  },
  {
   "cell_type": "code",
   "execution_count": 7,
   "metadata": {},
   "outputs": [
    {
     "data": {
      "text/plain": [
       "True"
      ]
     },
     "execution_count": 7,
     "metadata": {},
     "output_type": "execute_result"
    }
   ],
   "source": [
    "# Example: Set and get a key\n",
    "r.set('key', 'value')"
   ]
  },
  {
   "cell_type": "code",
   "execution_count": 4,
   "metadata": {},
   "outputs": [
    {
     "name": "stdout",
     "output_type": "stream",
     "text": [
      "value\n"
     ]
    }
   ],
   "source": [
    "print(r.get('key'))  # b'value'|"
   ]
  },
  {
   "cell_type": "code",
   "execution_count": 10,
   "metadata": {},
   "outputs": [
    {
     "data": {
      "text/plain": [
       "0"
      ]
     },
     "execution_count": 10,
     "metadata": {},
     "output_type": "execute_result"
    }
   ],
   "source": [
    "# Add the media file metadata from the NFO file\n",
    "metadata = {\n",
    "    'plot': 'In 2071, roughly fifty years after an accident with a hyperspace gateway made the Earth almost uninhabitable, humanity has colonized most of the rocky planets and moons of the Solar System. Amid a rising crime rate, the Inter Solar System Police (ISSP) set up a legalized contract system, in which registered bounty hunters (also referred to as \"Cowboys\") chase criminals and bring them in alive in return for a reward.',\n",
    "    'outline': 'In 2071, roughly fifty years after an accident with a hyperspace gateway made the Earth almost uninhabitable, humanity has colonized most of the rocky planets and moons of the Solar System. Amid a rising crime rate, the Inter Solar System Police (ISSP) set up a legalized contract system, in which registered bounty hunters (also referred to as \"Cowboys\") chase criminals and bring them in alive in return for a reward.',\n",
    "    'lockdata': 'true',\n",
    "    'dateadded': '2022-10-19 19:46:52',\n",
    "    'title': 'Cowboy Bebop',\n",
    "    'originaltitle': 'カウボーイビバップ',\n",
    "    'writer': 'Hajime Yatate',\n",
    "    'credits': 'Hajime Yatate',\n",
    "    'trailer': 'plugin://plugin.video.youtube/?action=play_video&videoid=RI08P5SaJNU',\n",
    "    'rating': '8.9',\n",
    "    'year': '1998',\n",
    "    'mpaa': 'TV-14',\n",
    "    'imdb_id': 'tt0213338',\n",
    "    'tmdbid': '30991',\n",
    "    'premiered': '1998-04-02',\n",
    "    'releasedate': '1998-04-02',\n",
    "    'enddate': '1999-04-23',\n",
    "    'runtime': '25',\n",
    "    'genre': 'Western',\n",
    "    'studio': 'WOWOW Prime',\n",
    "    'tag': 'space western',\n",
    "    'tvdbid': '76885',\n",
    "    'art': '',\n",
    "    'actor': '',\n",
    "    'id': '76885',\n",
    "    'episodeguide': '',\n",
    "    'season': '-1',\n",
    "    'episode': '-1',\n",
    "    'status': 'Ended'\n",
    "}\n",
    "\n",
    "# Use hset with mapping to add the metadata\n",
    "r.hset('media:cowboy_bebop', mapping=metadata)"
   ]
  },
  {
   "cell_type": "code",
   "execution_count": 5,
   "metadata": {},
   "outputs": [
    {
     "name": "stdout",
     "output_type": "stream",
     "text": [
      "{'year': '1998', 'lockdata': 'true', 'episodeguide': '', 'mpaa': 'TV-14', 'actor': '', 'plot': 'In 2071, roughly fifty years after an accident with a hyperspace gateway made the Earth almost uninhabitable, humanity has colonized most of the rocky planets and moons of the Solar System. Amid a rising crime rate, the Inter Solar System Police (ISSP) set up a legalized contract system, in which registered bounty hunters (also referred to as \"Cowboys\") chase criminals and bring them in alive in return for a reward.', 'season': '-1', 'art': '', 'studio': 'WOWOW Prime', 'tmdbid': '30991', 'imdb_id': 'tt0213338', 'id': '76885', 'genre': 'Western', 'outline': 'In 2071, roughly fifty years after an accident with a hyperspace gateway made the Earth almost uninhabitable, humanity has colonized most of the rocky planets and moons of the Solar System. Amid a rising crime rate, the Inter Solar System Police (ISSP) set up a legalized contract system, in which registered bounty hunters (also referred to as \"Cowboys\") chase criminals and bring them in alive in return for a reward.', 'title': 'Cowboy Bebop', 'runtime': '25', 'releasedate': '1998-04-02', 'rating': '8.9', 'tag': 'space western', 'tvdbid': '76885', 'credits': 'Hajime Yatate', 'originaltitle': 'カウボーイビバップ', 'writer': 'Hajime Yatate', 'status': 'Ended', 'premiered': '1998-04-02', 'episode': '-1', 'enddate': '1999-04-23', 'dateadded': '2022-10-19 19:46:52', 'trailer': 'plugin://plugin.video.youtube/?action=play_video&videoid=RI08P5SaJNU'}\n"
     ]
    }
   ],
   "source": [
    "# Retrieve metadata\n",
    "print(r.hgetall('media:cowboy_bebop'))"
   ]
  },
  {
   "cell_type": "markdown",
   "metadata": {},
   "source": [
    "Script to process nfo"
   ]
  },
  {
   "cell_type": "code",
   "execution_count": null,
   "metadata": {},
   "outputs": [],
   "source": [
    "# Load and parse the NFO file\n",
    "tree = ET.parse('tvshow.nfo')\n",
    "root = tree.getroot()\n",
    "\n",
    "# Extract metadata from the NFO file\n",
    "metadata = {}\n",
    "for child in root:\n",
    "    metadata[child.tag] = child.text\n",
    "\n",
    "metadata"
   ]
  },
  {
   "cell_type": "markdown",
   "metadata": {},
   "source": [
    "Scan, retrieve, store metadata"
   ]
  },
  {
   "cell_type": "code",
   "execution_count": 14,
   "metadata": {},
   "outputs": [],
   "source": [
    "api_key = os.getenv('TMDB_API_KEY')\n",
    "\n",
    "# Initialize TMDb API\n",
    "tmdb = TMDb()\n",
    "tmdb.api_key = api_key\n",
    "tv = TV()\n",
    "season = Season()\n",
    "episode = Episode()\n",
    "show_title = 'Cowboy Bebop'\n",
    "seasonNum = 1\n",
    "episodeNum = 1\n",
    "\n",
    "# Function to scan media directory\n",
    "def scan_media_directory(directory):\n",
    "    # for root, dirs, files in os.walk(directory):\n",
    "    #     for file in files:\n",
    "    #         if file.endswith(('mp4', 'mkv', 'avi')):\n",
    "    #             # Extract show title, season, and episode from the directory structure\n",
    "    #             parts = root.split(os.sep)\n",
    "    #             show_title = parts[-2]\n",
    "    #             season = int(parts[-1].split('_')[1])\n",
    "    #             episode = int(os.path.splitext(file)[0].split('_')[1])\n",
    "    return\n",
    "\n",
    "def fetch_metadata(show_title, seasonNum, episodeNum): \n",
    "    # Fetch metadata from TMDb\n",
    "    results = tv.search(show_title)\n",
    "    if results:\n",
    "        show_id = results[1].id\n",
    "        show_details = tv.details(show_id)\n",
    "        season_details = season.details(show_id, seasonNum)\n",
    "        episode_details = episode.details(show_id, seasonNum, episodeNum)\n",
    "\n",
    "        \n",
    "        # Prepare metadata dictionary\n",
    "        metadata = {\n",
    "            'title': show_details.name,\n",
    "            'overview': show_details.overview,\n",
    "            'show_details': show_details,\n",
    "            'season': seasonNum,\n",
    "            \"season_details\": season_details,\n",
    "            \"episode\": episodeNum,\n",
    "            \"episode_details\": episode_details\n",
    "            # 'episode_title': episode_details.name,\n",
    "            # 'episode_overview': episode_details.overview,\n",
    "            # 'air_date': episode_details.air_date,\n",
    "            # 'file_path': os.path.join(root, file)\n",
    "        }\n",
    "                    \n",
    "    return metadata\n",
    "\n",
    "def store_data(metadata):\n",
    "    # Store metadata in Redis\n",
    "    # redis_key = f\"media:{show_title}:season_{season}:episode_{episode}\"\n",
    "    # r.hset(redis_key, mapping=metadata)\n",
    "    # print(f\"Added metadata for {show_title} S{season}E{episode}\")\n",
    "    return\n",
    "\n",
    "# Directory containing the media files\n",
    "# media_directory = input(\"Enter the path to the media directory: \")\n",
    "metadata = fetch_metadata(show_title, seasonNum, episodeNum)\n"
   ]
  },
  {
   "cell_type": "code",
   "execution_count": 23,
   "metadata": {},
   "outputs": [
    {
     "data": {
      "text/plain": [
       "tmdbv3api.as_obj.AsObj"
      ]
     },
     "execution_count": 23,
     "metadata": {},
     "output_type": "execute_result"
    }
   ],
   "source": [
    "type(metadata[\"episode_details\"])"
   ]
  },
  {
   "cell_type": "code",
   "execution_count": null,
   "metadata": {},
   "outputs": [],
   "source": []
  }
 ],
 "metadata": {
  "kernelspec": {
   "display_name": "TVEmulator",
   "language": "python",
   "name": "python3"
  },
  "language_info": {
   "codemirror_mode": {
    "name": "ipython",
    "version": 3
   },
   "file_extension": ".py",
   "mimetype": "text/x-python",
   "name": "python",
   "nbconvert_exporter": "python",
   "pygments_lexer": "ipython3",
   "version": "3.12.4"
  }
 },
 "nbformat": 4,
 "nbformat_minor": 2
}
