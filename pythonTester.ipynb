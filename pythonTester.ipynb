{
 "cells": [
  {
   "cell_type": "code",
   "execution_count": 3,
   "metadata": {},
   "outputs": [],
   "source": [
    "import redis\n",
    "\n",
    "r = redis.Redis(host='localhost', port=6379, decode_responses=True)"
   ]
  },
  {
   "cell_type": "markdown",
   "metadata": {},
   "source": [
    "Test Key:"
   ]
  },
  {
   "cell_type": "code",
   "execution_count": 4,
   "metadata": {},
   "outputs": [
    {
     "data": {
      "text/plain": [
       "True"
      ]
     },
     "execution_count": 4,
     "metadata": {},
     "output_type": "execute_result"
    }
   ],
   "source": [
    "# Example: Set and get a key\n",
    "r.set('key', 'value')"
   ]
  },
  {
   "cell_type": "code",
   "execution_count": 5,
   "metadata": {},
   "outputs": [
    {
     "name": "stdout",
     "output_type": "stream",
     "text": [
      "value\n"
     ]
    }
   ],
   "source": [
    "print(r.get('key'))  # b'value'"
   ]
  },
  {
   "cell_type": "code",
   "execution_count": 6,
   "metadata": {},
   "outputs": [
    {
     "data": {
      "text/plain": [
       "29"
      ]
     },
     "execution_count": 6,
     "metadata": {},
     "output_type": "execute_result"
    }
   ],
   "source": [
    "# Add the media file metadata from the NFO file\n",
    "metadata = {\n",
    "    'plot': 'In 2071, roughly fifty years after an accident with a hyperspace gateway made the Earth almost uninhabitable, humanity has colonized most of the rocky planets and moons of the Solar System. Amid a rising crime rate, the Inter Solar System Police (ISSP) set up a legalized contract system, in which registered bounty hunters (also referred to as \"Cowboys\") chase criminals and bring them in alive in return for a reward.',\n",
    "    'outline': 'In 2071, roughly fifty years after an accident with a hyperspace gateway made the Earth almost uninhabitable, humanity has colonized most of the rocky planets and moons of the Solar System. Amid a rising crime rate, the Inter Solar System Police (ISSP) set up a legalized contract system, in which registered bounty hunters (also referred to as \"Cowboys\") chase criminals and bring them in alive in return for a reward.',\n",
    "    'lockdata': 'true',\n",
    "    'dateadded': '2022-10-19 19:46:52',\n",
    "    'title': 'Cowboy Bebop',\n",
    "    'originaltitle': 'カウボーイビバップ',\n",
    "    'writer': 'Hajime Yatate',\n",
    "    'credits': 'Hajime Yatate',\n",
    "    'trailer': 'plugin://plugin.video.youtube/?action=play_video&videoid=RI08P5SaJNU',\n",
    "    'rating': '8.9',\n",
    "    'year': '1998',\n",
    "    'mpaa': 'TV-14',\n",
    "    'imdb_id': 'tt0213338',\n",
    "    'tmdbid': '30991',\n",
    "    'premiered': '1998-04-02',\n",
    "    'releasedate': '1998-04-02',\n",
    "    'enddate': '1999-04-23',\n",
    "    'runtime': '25',\n",
    "    'genre': 'Western',\n",
    "    'studio': 'WOWOW Prime',\n",
    "    'tag': 'space western',\n",
    "    'tvdbid': '76885',\n",
    "    'art': '',\n",
    "    'actor': '',\n",
    "    'id': '76885',\n",
    "    'episodeguide': '',\n",
    "    'season': '-1',\n",
    "    'episode': '-1',\n",
    "    'status': 'Ended'\n",
    "}\n",
    "\n",
    "# Use hset with mapping to add the metadata\n",
    "r.hset('media:cowboy_bebop', mapping=metadata)"
   ]
  },
  {
   "cell_type": "code",
   "execution_count": 7,
   "metadata": {},
   "outputs": [
    {
     "name": "stdout",
     "output_type": "stream",
     "text": [
      "{'id': '76885', 'season': '-1', 'runtime': '25', 'rating': '8.9', 'episodeguide': '', 'episode': '-1', 'tag': 'space western', 'plot': 'In 2071, roughly fifty years after an accident with a hyperspace gateway made the Earth almost uninhabitable, humanity has colonized most of the rocky planets and moons of the Solar System. Amid a rising crime rate, the Inter Solar System Police (ISSP) set up a legalized contract system, in which registered bounty hunters (also referred to as \"Cowboys\") chase criminals and bring them in alive in return for a reward.', 'mpaa': 'TV-14', 'studio': 'WOWOW Prime', 'writer': 'Hajime Yatate', 'outline': 'In 2071, roughly fifty years after an accident with a hyperspace gateway made the Earth almost uninhabitable, humanity has colonized most of the rocky planets and moons of the Solar System. Amid a rising crime rate, the Inter Solar System Police (ISSP) set up a legalized contract system, in which registered bounty hunters (also referred to as \"Cowboys\") chase criminals and bring them in alive in return for a reward.', 'imdb_id': 'tt0213338', 'tmdbid': '30991', 'year': '1998', 'releasedate': '1998-04-02', 'status': 'Ended', 'trailer': 'plugin://plugin.video.youtube/?action=play_video&videoid=RI08P5SaJNU', 'lockdata': 'true', 'dateadded': '2022-10-19 19:46:52', 'tvdbid': '76885', 'premiered': '1998-04-02', 'enddate': '1999-04-23', 'art': '', 'actor': '', 'credits': 'Hajime Yatate', 'genre': 'Western', 'originaltitle': 'カウボーイビバップ', 'title': 'Cowboy Bebop'}\n"
     ]
    }
   ],
   "source": [
    "# Retrieve metadata\n",
    "print(r.hgetall('media:cowboy_bebop'))"
   ]
  },
  {
   "cell_type": "markdown",
   "metadata": {},
   "source": [
    "Script to process nfo"
   ]
  },
  {
   "cell_type": "code",
   "execution_count": null,
   "metadata": {},
   "outputs": [],
   "source": [
    "import xml.etree.ElementTree as ET\n",
    "\n",
    "# Load and parse the NFO file\n",
    "tree = ET.parse('tvshow.nfo')\n",
    "root = tree.getroot()\n",
    "\n",
    "# Extract metadata from the NFO file\n",
    "metadata = {}\n",
    "for child in root:\n",
    "    metadata[child.tag] = child.text\n",
    "\n",
    "metadata\n"
   ]
  }
 ],
 "metadata": {
  "kernelspec": {
   "display_name": "TVEmulator",
   "language": "python",
   "name": "python3"
  },
  "language_info": {
   "codemirror_mode": {
    "name": "ipython",
    "version": 3
   },
   "file_extension": ".py",
   "mimetype": "text/x-python",
   "name": "python",
   "nbconvert_exporter": "python",
   "pygments_lexer": "ipython3",
   "version": "3.12.4"
  }
 },
 "nbformat": 4,
 "nbformat_minor": 2
}
